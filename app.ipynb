{
 "cells": [
  {
   "cell_type": "code",
   "execution_count": 1,
   "id": "41851a68",
   "metadata": {},
   "outputs": [],
   "source": [
    "from flask import Flask,render_template,request"
   ]
  },
  {
   "cell_type": "code",
   "execution_count": 2,
   "id": "15ac5a94",
   "metadata": {},
   "outputs": [],
   "source": [
    "import pickle\n",
    "import numpy as np"
   ]
  },
  {
   "cell_type": "code",
   "execution_count": null,
   "id": "f914deb2",
   "metadata": {},
   "outputs": [
    {
     "name": "stdout",
     "output_type": "stream",
     "text": [
      " * Serving Flask app \"__main__\" (lazy loading)\n",
      " * Environment: production\n",
      "   WARNING: This is a development server. Do not use it in a production deployment.\n",
      "   Use a production WSGI server instead.\n",
      " * Debug mode: off\n"
     ]
    },
    {
     "name": "stderr",
     "output_type": "stream",
     "text": [
      " * Running on http://127.0.0.1:5000/ (Press CTRL+C to quit)\n"
     ]
    }
   ],
   "source": [
    "app=Flask(__name__)\n",
    "model=pickle.load(open('model_rf.pkl','rb'))\n",
    "\n",
    "@app.route('/')\n",
    "\n",
    "def home():\n",
    "    return render_template('index.html')\n",
    "@app.route('/predict',methods =[\"POST\"])\n",
    "def predict():\n",
    "    float_features = [float(x) for x in request.form.values()]\n",
    "    final_features = [np.array(float_features)]\n",
    "    predict = model.predict(final_features) \n",
    "\n",
    "    \n",
    "    \n",
    "    return render_template('index.html',prediction='prediction{}'.format(predict))\n",
    "if __name__=='__main__':\n",
    "    app.run(debug=False)"
   ]
  },
  {
   "cell_type": "markdown",
   "id": "ad1e5060",
   "metadata": {},
   "source": []
  }
 ],
 "metadata": {
  "kernelspec": {
   "display_name": "Python 3",
   "language": "python",
   "name": "python3"
  },
  "language_info": {
   "codemirror_mode": {
    "name": "ipython",
    "version": 3
   },
   "file_extension": ".py",
   "mimetype": "text/x-python",
   "name": "python",
   "nbconvert_exporter": "python",
   "pygments_lexer": "ipython3",
   "version": "3.8.8"
  }
 },
 "nbformat": 4,
 "nbformat_minor": 5
}
